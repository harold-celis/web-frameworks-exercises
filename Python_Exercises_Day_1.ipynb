{
  "nbformat": 4,
  "nbformat_minor": 0,
  "metadata": {
    "colab": {
      "name": "Python Exercises - Day 1",
      "provenance": [],
      "collapsed_sections": [],
      "authorship_tag": "ABX9TyMjM6XS7L3rAR+sQ5XjcpHb",
      "include_colab_link": true
    },
    "kernelspec": {
      "name": "python3",
      "display_name": "Python 3"
    },
    "language_info": {
      "name": "python"
    }
  },
  "cells": [
    {
      "cell_type": "markdown",
      "metadata": {
        "id": "view-in-github",
        "colab_type": "text"
      },
      "source": [
        "<a href=\"https://colab.research.google.com/github/haroldcelisnavarrete/web-frameworks-exercises/blob/main/Python_Exercises_Day_1.ipynb\" target=\"_parent\"><img src=\"https://colab.research.google.com/assets/colab-badge.svg\" alt=\"Open In Colab\"/></a>"
      ]
    },
    {
      "cell_type": "markdown",
      "source": [
        "First exercise: Write a function that accepts a string and prints to screen the number of uppercase letters and lowercase letters.\n"
      ],
      "metadata": {
        "id": "nTVXb3HBXzMe"
      }
    },
    {
      "cell_type": "code",
      "source": [
        "def case_count(s):\n",
        "    d={\"UPPER_CASE\":0, \"LOWER_CASE\":0}\n",
        "    for c in s:\n",
        "        if c.isupper():\n",
        "           d[\"UPPER_CASE\"]+=1\n",
        "        elif c.islower():\n",
        "           d[\"LOWER_CASE\"]+=1\n",
        "        else:\n",
        "           pass\n",
        "    print (\"Uppercase : \", d[\"UPPER_CASE\"], \"Lowercase : \",d[\"LOWER_CASE\"])\n",
        "    "
      ],
      "metadata": {
        "id": "p71mFj9uX4l8"
      },
      "execution_count": null,
      "outputs": []
    },
    {
      "cell_type": "code",
      "source": [
        "case_count('Hello World')"
      ],
      "metadata": {
        "colab": {
          "base_uri": "https://localhost:8080/"
        },
        "id": "6RHL2dMSYlTY",
        "outputId": "a92149bd-5f11-4329-cecc-34a5c44f91fc"
      },
      "execution_count": null,
      "outputs": [
        {
          "output_type": "stream",
          "name": "stdout",
          "text": [
            "Uppercase :  2 Lowercase :  8\n"
          ]
        }
      ]
    },
    {
      "cell_type": "code",
      "source": [
        "# source: Available at: https://www.w3resource.com/python-exercises/python-functions-exercise-7.php\n",
        "# accessed the 7th of March 2022."
      ],
      "metadata": {
        "id": "RVxtrz2kYmR3"
      },
      "execution_count": null,
      "outputs": []
    },
    {
      "cell_type": "markdown",
      "source": [
        "Second exercise: Write a function that will take in a string parameter and return a string in its equivalent Morse code"
      ],
      "metadata": {
        "id": "hG8xagROaVQI"
      }
    },
    {
      "cell_type": "code",
      "source": [
        "# Python program to implement Morse Code Translator\n",
        " \n",
        "'''\n",
        "VARIABLE KEY\n",
        "'cipher' -> 'stores the morse translated form of the english string'\n",
        "'citext' -> 'stores morse code of a single character'\n",
        "'i' -> 'keeps count of the spaces between morse characters'\n",
        "'message' -> 'stores the string to be encoded or decoded'\n",
        "'''\n",
        " \n",
        "# Dictionary representing the morse code chart\n",
        "MORSE_CODE_DICT = { 'A':'.-', 'B':'-...',\n",
        "                    'C':'-.-.', 'D':'-..', 'E':'.',\n",
        "                    'F':'..-.', 'G':'--.', 'H':'....',\n",
        "                    'I':'..', 'J':'.---', 'K':'-.-',\n",
        "                    'L':'.-..', 'M':'--', 'N':'-.',\n",
        "                    'O':'---', 'P':'.--.', 'Q':'--.-',\n",
        "                    'R':'.-.', 'S':'...', 'T':'-',\n",
        "                    'U':'..-', 'V':'...-', 'W':'.--',\n",
        "                    'X':'-..-', 'Y':'-.--', 'Z':'--..',\n",
        "                    '1':'.----', '2':'..---', '3':'...--',\n",
        "                    '4':'....-', '5':'.....', '6':'-....',\n",
        "                    '7':'--...', '8':'---..', '9':'----.',\n",
        "                    '0':'-----', ', ':'--..--', '.':'.-.-.-',\n",
        "                    '?':'..--..', '/':'-..-.', '-':'-....-',\n",
        "                    '(':'-.--.', ')':'-.--.-'}\n",
        " \n",
        "# Function to encrypt the string\n",
        "# according to the morse code chart\n",
        "def encrypt(message):\n",
        "    cipher = ''\n",
        "    for letter in message:\n",
        "        if letter != ' ':\n",
        " \n",
        "            # Looks up the dictionary and adds the\n",
        "            # correspponding morse code\n",
        "            # along with a space to separate\n",
        "            # morse codes for different characters\n",
        "            cipher += MORSE_CODE_DICT[letter] + ' '\n",
        "        else:\n",
        "            # 1 space indicates different characters\n",
        "            # and 2 indicates different words\n",
        "            cipher += ' '\n",
        " \n",
        "    return cipher\n",
        " \n",
        "\n",
        "# Hard-coded driver function to run the program\n",
        "def main():\n",
        "    message = \"Hello World\"\n",
        "    result = encrypt(message.upper())\n",
        "    print (result)\n",
        " \n",
        " \n",
        "# Executes the main function\n",
        "if __name__ == '__main__':\n",
        "    main()"
      ],
      "metadata": {
        "colab": {
          "base_uri": "https://localhost:8080/"
        },
        "id": "ySdoODA0bnLq",
        "outputId": "c567c858-d17f-4143-e484-e718498da2a1"
      },
      "execution_count": null,
      "outputs": [
        {
          "output_type": "stream",
          "name": "stdout",
          "text": [
            ".... . .-.. .-.. ---  .-- --- .-. .-.. -.. \n"
          ]
        }
      ]
    },
    {
      "cell_type": "code",
      "source": [
        "#source: available at: https://www.geeksforgeeks.org/morse-code-translator-python/\n",
        "# accessed the 7th of Marche 2022"
      ],
      "metadata": {
        "id": "kp_UzY-vbxj6"
      },
      "execution_count": null,
      "outputs": []
    }
  ]
}